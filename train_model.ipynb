{
 "cells": [
  {
   "cell_type": "code",
   "execution_count": 9,
   "metadata": {},
   "outputs": [
    {
     "name": "stderr",
     "output_type": "stream",
     "text": [
      "[nltk_data] Downloading package stopwords to\n",
      "[nltk_data]     /home/rudospiew/nltk_data...\n",
      "[nltk_data]   Package stopwords is already up-to-date!\n"
     ]
    },
    {
     "name": "stdout",
     "output_type": "stream",
     "text": [
      "Model: \"sequential_1\"\n",
      "_________________________________________________________________\n",
      " Layer (type)                Output Shape              Param #   \n",
      "=================================================================\n",
      " embedding_1 (Embedding)     (None, 21, 120)           60000     \n",
      "                                                                 \n",
      " spatial_dropout1d_1 (Spati  (None, 21, 120)           0         \n",
      " alDropout1D)                                                    \n",
      "                                                                 \n",
      " lstm_1 (LSTM)               (None, 704)               2323200   \n",
      "                                                                 \n",
      " dense_2 (Dense)             (None, 352)               248160    \n",
      "                                                                 \n",
      " dense_3 (Dense)             (None, 3)                 1059      \n",
      "                                                                 \n",
      "=================================================================\n",
      "Total params: 2632419 (10.04 MB)\n",
      "Trainable params: 2632419 (10.04 MB)\n",
      "Non-trainable params: 0 (0.00 Byte)\n",
      "_________________________________________________________________\n",
      "None\n",
      "Epoch 1/30\n",
      "172/172 [==============================] - 57s 319ms/step - loss: 0.9043 - accuracy: 0.5703\n",
      "Epoch 2/30\n",
      "172/172 [==============================] - 54s 313ms/step - loss: 0.7885 - accuracy: 0.6619\n",
      "Epoch 3/30\n",
      "172/172 [==============================] - 54s 315ms/step - loss: 0.7611 - accuracy: 0.6772\n",
      "Epoch 4/30\n",
      "172/172 [==============================] - 54s 314ms/step - loss: 0.7495 - accuracy: 0.6839\n",
      "Epoch 5/30\n",
      "172/172 [==============================] - 54s 313ms/step - loss: 0.7424 - accuracy: 0.6882\n",
      "Epoch 6/30\n",
      "172/172 [==============================] - 54s 314ms/step - loss: 0.7318 - accuracy: 0.6883\n",
      "Epoch 7/30\n",
      "172/172 [==============================] - 54s 315ms/step - loss: 0.7248 - accuracy: 0.6939\n",
      "Epoch 8/30\n",
      "172/172 [==============================] - 54s 316ms/step - loss: 0.7179 - accuracy: 0.6947\n",
      "Epoch 9/30\n",
      "172/172 [==============================] - 54s 316ms/step - loss: 0.7107 - accuracy: 0.6993\n",
      "Epoch 10/30\n",
      "172/172 [==============================] - 54s 316ms/step - loss: 0.7074 - accuracy: 0.6973\n",
      "Epoch 11/30\n",
      "172/172 [==============================] - 54s 317ms/step - loss: 0.6973 - accuracy: 0.7046\n",
      "Epoch 12/30\n",
      "172/172 [==============================] - 54s 316ms/step - loss: 0.6921 - accuracy: 0.7057\n",
      "Epoch 13/30\n",
      "172/172 [==============================] - 57s 332ms/step - loss: 0.6847 - accuracy: 0.7087\n",
      "Epoch 14/30\n",
      "172/172 [==============================] - 57s 333ms/step - loss: 0.6746 - accuracy: 0.7139\n",
      "Epoch 15/30\n",
      "172/172 [==============================] - 56s 323ms/step - loss: 0.6680 - accuracy: 0.7172\n",
      "Epoch 16/30\n",
      "172/172 [==============================] - 56s 323ms/step - loss: 0.6649 - accuracy: 0.7194\n",
      "Epoch 17/30\n",
      "172/172 [==============================] - 55s 322ms/step - loss: 0.6544 - accuracy: 0.7208\n",
      "Epoch 18/30\n",
      "172/172 [==============================] - 56s 323ms/step - loss: 0.6437 - accuracy: 0.7259\n",
      "Epoch 19/30\n",
      "172/172 [==============================] - 55s 322ms/step - loss: 0.6342 - accuracy: 0.7271\n",
      "Epoch 20/30\n",
      "172/172 [==============================] - 56s 323ms/step - loss: 0.6254 - accuracy: 0.7328\n",
      "Epoch 21/30\n",
      "172/172 [==============================] - 55s 321ms/step - loss: 0.6159 - accuracy: 0.7367\n",
      "Epoch 22/30\n",
      "172/172 [==============================] - 56s 323ms/step - loss: 0.6041 - accuracy: 0.7395\n",
      "Epoch 23/30\n",
      "172/172 [==============================] - 55s 322ms/step - loss: 0.5914 - accuracy: 0.7496\n",
      "Epoch 24/30\n",
      "172/172 [==============================] - 55s 322ms/step - loss: 0.5779 - accuracy: 0.7524\n",
      "Epoch 25/30\n",
      "172/172 [==============================] - 56s 324ms/step - loss: 0.5642 - accuracy: 0.7606\n",
      "Epoch 26/30\n",
      "172/172 [==============================] - 56s 326ms/step - loss: 0.5508 - accuracy: 0.7658\n",
      "Epoch 27/30\n",
      "172/172 [==============================] - 56s 326ms/step - loss: 0.5318 - accuracy: 0.7750\n",
      "Epoch 28/30\n",
      "172/172 [==============================] - 56s 326ms/step - loss: 0.5133 - accuracy: 0.7835\n",
      "Epoch 29/30\n",
      "172/172 [==============================] - 56s 327ms/step - loss: 0.4981 - accuracy: 0.7893\n",
      "Epoch 30/30\n",
      "172/172 [==============================] - 56s 327ms/step - loss: 0.4788 - accuracy: 0.7985\n",
      "172/172 [==============================] - 8s 43ms/step - loss: 1.0821 - accuracy: 0.6326\n",
      "Test Loss: 1.0820960998535156\n",
      "Test Accuracy: 0.6326419115066528\n"
     ]
    }
   ],
   "source": [
    "import nltk\n",
    "import pandas as pd\n",
    "from textblob import Word\n",
    "from nltk.corpus import stopwords\n",
    "from sklearn.preprocessing import LabelEncoder\n",
    "from sklearn.metrics import classification_report, confusion_matrix, accuracy_score\n",
    "from keras.models import Sequential\n",
    "from keras.preprocessing.text import Tokenizer\n",
    "from keras.preprocessing.sequence import pad_sequences\n",
    "from keras.layers import Dense, Embedding, LSTM, SpatialDropout1D\n",
    "from sklearn.model_selection import train_test_split \n",
    "\n",
    "data = pd.read_csv('train_data.csv')\n",
    "\n",
    "# Pre-Processing the text \n",
    "def cleaning(df, stop_words):\n",
    "    df['Text'] = df['Text'].astype(str)  # Convert to string\n",
    "    df['Text'] = df['Text'].apply(lambda x: ' '.join(x.lower() for x in x.split()))\n",
    "    # Replacing the digits/numbers\n",
    "    df['Text'] = df['Text'].str.replace(r'\\d+', '', regex=True)\n",
    "    # Removing stop words\n",
    "    df['Text'] = df['Text'].apply(lambda x: ' '.join(x for x in x.split() if x not in stop_words))\n",
    "    # Lemmatization\n",
    "    df['Text'] = df['Text'].apply(lambda x: ' '.join([Word(x).lemmatize() for x in x.split()]))\n",
    "    return df\n",
    "\n",
    "nltk.download('stopwords')\n",
    "stop_words = stopwords.words('english')\n",
    "data = data.dropna(subset=['Text'])\n",
    "data_cleaned = cleaning(data, stop_words)\n",
    "\n",
    "tokenizer = Tokenizer(num_words=500, split=' ') \n",
    "tokenizer.fit_on_texts(data_cleaned['Text'].values)\n",
    "X = tokenizer.texts_to_sequences(data_cleaned['Text'].values)\n",
    "X = pad_sequences(X)\n",
    "\n",
    "# Encoding the target variable\n",
    "Y = pd.get_dummies(data_cleaned['Sentiment']).values\n",
    "\n",
    "X_train, X_test, y_train, y_test = train_test_split(X, Y, test_size=0.2, random_state=42)\n",
    "\n",
    "#Trainig\n",
    "model = Sequential()\n",
    "model.add(Embedding(500, 120, input_length=X.shape[1]))\n",
    "model.add(SpatialDropout1D(0.4))\n",
    "model.add(LSTM(704, dropout=0.2, recurrent_dropout=0.2))\n",
    "model.add(Dense(352, activation='relu'))  # Changed LeakyReLU to relu\n",
    "model.add(Dense(3, activation='softmax'))\n",
    "model.compile(loss='categorical_crossentropy', optimizer='adam', metrics=['accuracy'])\n",
    "\n",
    "print(model.summary())\n",
    "model.fit(X_train, y_train, epochs=30, batch_size=128, verbose=1)\n",
    "\n",
    "#Testing\n",
    "score = model.evaluate(X_test, y_test)\n",
    "print(\"Test Loss:\", score[0])\n",
    "print(\"Test Accuracy:\", score[1])\n"
   ]
  },
  {
   "cell_type": "code",
   "execution_count": 10,
   "metadata": {},
   "outputs": [
    {
     "name": "stderr",
     "output_type": "stream",
     "text": [
      "/home/rudospiew/.local/lib/python3.11/site-packages/keras/src/engine/training.py:3103: UserWarning: You are saving your model as an HDF5 file via `model.save()`. This file format is considered legacy. We recommend using instead the native Keras format, e.g. `model.save('my_model.keras')`.\n",
      "  saving_api.save_model(\n"
     ]
    },
    {
     "name": "stdout",
     "output_type": "stream",
     "text": [
      "INFO:tensorflow:Assets written to: my_model_bigkeras/assets\n"
     ]
    },
    {
     "name": "stderr",
     "output_type": "stream",
     "text": [
      "INFO:tensorflow:Assets written to: my_model_bigkeras/assets\n"
     ]
    }
   ],
   "source": [
    "model.save('model_big.h5')"
   ]
  },
  {
   "cell_type": "code",
   "execution_count": 11,
   "metadata": {},
   "outputs": [],
   "source": []
  }
 ],
 "metadata": {
  "kernelspec": {
   "display_name": "Python 3",
   "language": "python",
   "name": "python3"
  },
  "language_info": {
   "codemirror_mode": {
    "name": "ipython",
    "version": 3
   },
   "file_extension": ".py",
   "mimetype": "text/x-python",
   "name": "python",
   "nbconvert_exporter": "python",
   "pygments_lexer": "ipython3",
   "version": "3.11.6"
  }
 },
 "nbformat": 4,
 "nbformat_minor": 2
}

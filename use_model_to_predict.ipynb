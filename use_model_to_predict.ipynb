{
 "cells": [
  {
   "cell_type": "code",
   "execution_count": 7,
   "metadata": {},
   "outputs": [
    {
     "name": "stderr",
     "output_type": "stream",
     "text": [
      "WARNING:absl:Compiled the loaded model, but the compiled metrics have yet to be built. `model.compile_metrics` will be empty until you train or evaluate the model.\n"
     ]
    },
    {
     "name": "stdout",
     "output_type": "stream",
     "text": [
      "\u001b[1m1352/1352\u001b[0m \u001b[32m━━━━━━━━━━━━━━━━━━━━\u001b[0m\u001b[37m\u001b[0m \u001b[1m491s\u001b[0m 363ms/step\n"
     ]
    },
    {
     "name": "stderr",
     "output_type": "stream",
     "text": [
      "C:\\Users\\PC\\AppData\\Local\\Temp\\ipykernel_13776\\2660357873.py:21: SettingWithCopyWarning: \n",
      "A value is trying to be set on a copy of a slice from a DataFrame.\n",
      "Try using .loc[row_indexer,col_indexer] = value instead\n",
      "\n",
      "See the caveats in the documentation: https://pandas.pydata.org/pandas-docs/stable/user_guide/indexing.html#returning-a-view-versus-a-copy\n",
      "  new_data_cleaned['Predicted_Sentiment'] = predicted_labels\n"
     ]
    },
    {
     "name": "stdout",
     "output_type": "stream",
     "text": [
      "                                             content Predicted_Sentiment\n",
      "0  sure tune watch donald trump late night david ...             Neutral\n",
      "1  donald trump appearing view tomorrow morning d...             Neutral\n",
      "2  donald trump reads top ten financial tips late...             Neutral\n",
      "3  new blog post celebrity apprentice finale less...            Negative\n",
      "4  persona never wallflower rather build walls cl...             Neutral\n"
     ]
    }
   ],
   "source": [
    "import pandas as pd\n",
    "import numpy as np\n",
    "from keras.models import load_model\n",
    "from tensorflow.keras.preprocessing.text import Tokenizer\n",
    "from tensorflow.keras.preprocessing.sequence import pad_sequences\n",
    "\n",
    "model = load_model('model_big.h5')\n",
    "new_data = pd.read_csv('cleaned_trump_tweets.csv')\n",
    "new_data_cleaned = new_data.dropna(subset=['content'])\n",
    "\n",
    "tokenizer = Tokenizer(num_words=500, split=' ') \n",
    "tokenizer.fit_on_texts(new_data_cleaned['content'].values)\n",
    "X_new = tokenizer.texts_to_sequences(new_data_cleaned['content'].values)\n",
    "X_new = pad_sequences(X_new, maxlen=model.input_shape[1])\n",
    "\n",
    "predictions = model.predict(X_new)\n",
    "sentiment_labels = ['Negative', 'Neutral', 'Positive']\n",
    "predicted_labels = [sentiment_labels[np.argmax(pred)] for pred in predictions]\n",
    "\n",
    "# Add predictions to the dataframe\n",
    "new_data_cleaned['Predicted_Sentiment'] = predicted_labels\n",
    "\n",
    "new_data_cleaned.to_csv('predicted_sentiments.csv', index=False)\n",
    "print(new_data_cleaned[['content', 'Predicted_Sentiment']].head())\n"
   ]
  }
 ],
 "metadata": {
  "kernelspec": {
   "display_name": "Python 3",
   "language": "python",
   "name": "python3"
  },
  "language_info": {
   "codemirror_mode": {
    "name": "ipython",
    "version": 3
   },
   "file_extension": ".py",
   "mimetype": "text/x-python",
   "name": "python",
   "nbconvert_exporter": "python",
   "pygments_lexer": "ipython3",
   "version": "3.12.0"
  }
 },
 "nbformat": 4,
 "nbformat_minor": 2
}
